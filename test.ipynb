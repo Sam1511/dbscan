{
 "cells": [
  {
   "cell_type": "code",
   "execution_count": 1,
   "metadata": {
    "collapsed": true
   },
   "outputs": [],
   "source": [
    "import cPickle\n",
    "mat = cPickle.load(open(\"data/100000.dat\", 'rb')).astype(bool)"
   ]
  },
  {
   "cell_type": "code",
   "execution_count": 2,
   "metadata": {
    "collapsed": false
   },
   "outputs": [
    {
     "name": "stdout",
     "output_type": "stream",
     "text": [
      "Converting to dictionary is done in 0.4s.\n",
      "Constructing neighbors matrix is done in 0.9s.\n",
      "DBSCANning is done in 0.0s.\n",
      "Program finished after 1.3s.\n",
      "\n",
      "Largest cluster size is:\t28470\n",
      "Total number of clusters:\t1692\n",
      "Number of members in noise:\t132\n"
     ]
    }
   ],
   "source": [
    "from dbscan import dbscan\n",
    "dbscan(mat, eps=.15, min_pts=2, report=True)"
   ]
  },
  {
   "cell_type": "code",
   "execution_count": 3,
   "metadata": {
    "collapsed": false
   },
   "outputs": [
    {
     "name": "stdout",
     "output_type": "stream",
     "text": [
      "1 loops, best of 3: 1.18 s per loop\n"
     ]
    }
   ],
   "source": [
    "%timeit dbscan(mat)"
   ]
  },
  {
   "cell_type": "markdown",
   "metadata": {},
   "source": [
    "# END"
   ]
  }
 ],
 "metadata": {
  "kernelspec": {
   "display_name": "Python 2",
   "language": "python",
   "name": "python2"
  },
  "language_info": {
   "codemirror_mode": {
    "name": "ipython",
    "version": 2
   },
   "file_extension": ".py",
   "mimetype": "text/x-python",
   "name": "python",
   "nbconvert_exporter": "python",
   "pygments_lexer": "ipython2",
   "version": "2.7.10"
  }
 },
 "nbformat": 4,
 "nbformat_minor": 0
}
